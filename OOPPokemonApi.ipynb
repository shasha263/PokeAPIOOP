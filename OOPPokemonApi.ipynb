{
 "cells": [
  {
   "cell_type": "code",
   "execution_count": 213,
   "metadata": {},
   "outputs": [],
   "source": [
    "#dict and obj easy to traslate back and forth\n",
    "#\n",
    "pokeName= ['charmander','pikachu','arbok','muk','caterpie','ditto','bulbasaur','ekans','mankey','flareon',\n",
    "      'horsea','cubone','nidorino','alakazam','mew','starmie','seaking','persian','pidgeot','beedrill'] \n",
    "\n",
    "class Pokemon:\n",
    "    def _init_(self,name,types,abilities,weight):\n",
    "        self.name= name\n",
    "        self.types= types\n",
    "        self.abilities= abilities\n",
    "        self.weight= weight\n",
    "        #self.pokeName=pokeName\n",
    "    \n",
    "    def pokeAPIcall(self,pokeName):\n",
    "        import requests as r\n",
    "        req=r.get(f'https://pokeapi.co/api/v2/pokemon/{pokeName}')\n",
    "        #print(req.status_code)\n",
    "        if req.status_code==200:\n",
    "            data=req.json()\n",
    "        else:\n",
    "            print(f\"Problem Occured:{req.status_code}\")\n",
    "    \n",
    "        self.name = data['name'].title()\n",
    "        self.abilities=[x['ability']['name'] for x in data['abilities']]\n",
    "        self.weight=data['weight']\n",
    "        self.types= [x['type']['name'] for x in data['types']]\n",
    "        print(f\"{self.name} updated!\")\n",
    "\n",
    "    def name_search(self,pokeName):\n",
    "        self.name=input(\"What Pokemon you want to look for?\")\n",
    "        \n",
    "        poke=[]\n",
    "        for self.name in pokeName:\n",
    "            new=Pokemon()\n",
    "            new.pokeAPIcall(self.name)\n",
    "            poke.append(new)\n",
    "\n",
    "        return poke\n"
   ]
  },
  {
   "cell_type": "code",
   "execution_count": 214,
   "metadata": {},
   "outputs": [],
   "source": [
    "\n",
    "    def name_search2(self,pokeName):\n",
    "        self.name=input(\"enter the name:\")\n",
    "        print(pokeName.__dict__)\n",
    "        self.pokeAPIcall()\n",
    "        print(pokeName)\n",
    "        \n",
    "\n",
    "\n"
   ]
  },
  {
   "cell_type": "code",
   "execution_count": 215,
   "metadata": {},
   "outputs": [],
   "source": [
    "#pikachu=Pokemon()\n",
    "#print(pikachu.__dict__)\n",
    "#pikachu.pokeAPIcall('pikachu')\n",
    "#print(pikachu)\n",
    "\n"
   ]
  },
  {
   "cell_type": "code",
   "execution_count": 216,
   "metadata": {},
   "outputs": [],
   "source": [
    "#list\n",
    "\n",
    "#poke=[]\n",
    "#for name in pokeName:\n",
    "    #new=Pokemon()\n",
    "   # new.pokeAPIcall(name)\n",
    "    #poke.append(new)\n",
    "\n",
    "#poke\n"
   ]
  },
  {
   "cell_type": "code",
   "execution_count": 217,
   "metadata": {},
   "outputs": [
    {
     "name": "stdout",
     "output_type": "stream",
     "text": [
      "\n",
      "        Welcome to Shaharima's PokemonApI Game:   \n",
      "        \n",
      "        Please select an input to proceed:\n",
      "        1) \n",
      "        2) \n",
      "        3) Search (Enter name from the list)\n",
      "        4)        \n",
      "        5) Quit \n",
      "\n",
      "            Searching by type\n",
      "                \n"
     ]
    },
    {
     "ename": "AttributeError",
     "evalue": "'Pokemon' object has no attribute 'name_search2'",
     "output_type": "error",
     "traceback": [
      "\u001b[1;31m---------------------------------------------------------------------------\u001b[0m",
      "\u001b[1;31mAttributeError\u001b[0m                            Traceback (most recent call last)",
      "\u001b[1;32mC:\\Users\\SHAHAR~1\\AppData\\Local\\Temp/ipykernel_14788/4262582583.py\u001b[0m in \u001b[0;36m<module>\u001b[1;34m\u001b[0m\n\u001b[0;32m     16\u001b[0m     \u001b[0mbegin\u001b[0m\u001b[1;33m=\u001b[0m\u001b[0minput\u001b[0m\u001b[1;33m(\u001b[0m\u001b[1;34m\"Choose a number to start.\"\u001b[0m\u001b[1;33m)\u001b[0m\u001b[1;33m\u001b[0m\u001b[1;33m\u001b[0m\u001b[0m\n\u001b[0;32m     17\u001b[0m     \u001b[1;32mif\u001b[0m \u001b[0mbegin\u001b[0m\u001b[1;33m==\u001b[0m\u001b[1;34m\"1\"\u001b[0m\u001b[1;33m:\u001b[0m\u001b[1;33m\u001b[0m\u001b[1;33m\u001b[0m\u001b[0m\n\u001b[1;32m---> 18\u001b[1;33m         \u001b[0mame_pokemon\u001b[0m\u001b[1;33m.\u001b[0m\u001b[0mname_search2\u001b[0m\u001b[1;33m(\u001b[0m\u001b[1;33m)\u001b[0m\u001b[1;33m\u001b[0m\u001b[1;33m\u001b[0m\u001b[0m\n\u001b[0m\u001b[0;32m     19\u001b[0m \u001b[1;33m\u001b[0m\u001b[0m\n\u001b[0;32m     20\u001b[0m         \u001b[1;32mpass\u001b[0m\u001b[1;33m\u001b[0m\u001b[1;33m\u001b[0m\u001b[0m\n",
      "\u001b[1;31mAttributeError\u001b[0m: 'Pokemon' object has no attribute 'name_search2'"
     ]
    }
   ],
   "source": [
    "class Main:\n",
    "    def showInstructions():    \n",
    "        print(\"\"\"\n",
    "        Welcome to Shaharima's PokemonApI Game:   \n",
    "        \n",
    "        Please select an input to proceed:\n",
    "        1) \n",
    "        2) \n",
    "        3) Search (Enter name from the list)\n",
    "        4)        \n",
    "        5) Quit \"\"\")       \n",
    "  \n",
    "ame_pokemon=Pokemon()\n",
    "Main.showInstructions() \n",
    "while True:\n",
    "    begin=input(\"Choose a number to start.\")\n",
    "    if begin==\"1\":\n",
    "        ame_pokemon.name_search2()                   \n",
    "\n",
    "        pass\n",
    "    elif begin=='2':\n",
    "        pass\n",
    "    elif begin=='3':\n",
    "        begin1=input (\"Do you want to search by name(1) or by type(2)?\\n Please enter only 1 or 2.\")\n",
    "        if begin1==\"1\": \n",
    "            ame_pokemon.name_search('')                   \n",
    "                                                                            \n",
    "        elif begin1==\"2\":\n",
    "            print(\"\"\"\n",
    "            Searching by type\n",
    "                \"\"\") \n",
    "        elif begin==\"5\":\n",
    "            break\n",
    "                            \n",
    "        else:\n",
    "            print('Please enter only \"1\" or \"2\"')      \n",
    "            pass"
   ]
  },
  {
   "cell_type": "code",
   "execution_count": null,
   "metadata": {},
   "outputs": [],
   "source": [
    "#3\n",
    "# Main.run()"
   ]
  },
  {
   "cell_type": "code",
   "execution_count": null,
   "metadata": {},
   "outputs": [],
   "source": [
    "#dictionary\n",
    "#poke={}\n",
    "#for name in pokeName:\n",
    "    #new=Pokemon()\n",
    "    #new.pokeAPIcall(name)\n",
    "    #poke[name]=new\n",
    "\n",
    "#poke"
   ]
  }
 ],
 "metadata": {
  "interpreter": {
   "hash": "b93b91927d7b2753ebe242aa7dfcdfef91881393d8b926ec2ce01874b09d686e"
  },
  "kernelspec": {
   "display_name": "Python 3.9.7 64-bit",
   "language": "python",
   "name": "python3"
  },
  "language_info": {
   "codemirror_mode": {
    "name": "ipython",
    "version": 3
   },
   "file_extension": ".py",
   "mimetype": "text/x-python",
   "name": "python",
   "nbconvert_exporter": "python",
   "pygments_lexer": "ipython3",
   "version": "3.9.7"
  },
  "orig_nbformat": 4
 },
 "nbformat": 4,
 "nbformat_minor": 2
}
